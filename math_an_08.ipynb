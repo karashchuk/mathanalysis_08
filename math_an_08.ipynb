{
 "cells": [
  {
   "cell_type": "markdown",
   "metadata": {},
   "source": [
    "## Решение к заданию 8\n"
   ]
  },
  {
   "cell_type": "markdown",
   "metadata": {},
   "source": [
    "__1.__ Найти частные производные первого и второго порядка. Убедиться в равенстве смешанных производных.\n",
    "\n",
    "### $$U=x^3+3xy^2+z^2-39x-36y+2z+26$$"
   ]
  },
  {
   "cell_type": "markdown",
   "metadata": {},
   "source": [
    "$$U'_x=3x^2 + 3y^2 - 39$$\n",
    "\n",
    "$$U'_y =  6xy - 36$$\n",
    "\n",
    "$$U'_z =  2z - 2$$\n",
    "\n"
   ]
  },
  {
   "cell_type": "markdown",
   "metadata": {},
   "source": [
    "$$U''_{xx} = 6x$$\n",
    "\n",
    "$$U''_{xy} = 6y$$\n",
    "\n",
    "$$U''_{xz}= 0 $$\n",
    "\n",
    "$$U''_{yx} =  6y$$\n",
    "\n",
    "$$U''_{yy} =  6x$$\n",
    "\n",
    "$$U''_{yz} =  0$$\n",
    "\n",
    "$$U''_{zx} =  0$$\n",
    "\n",
    "$$U''_{zy} =  0$$\n",
    "\n",
    "$$U''_{zz}=  2$$"
   ]
  },
  {
   "cell_type": "markdown",
   "metadata": {},
   "source": [
    "__2.__ Найти частные производные первого и второго порядка. Убедиться в равенстве смешанных производных.\n",
    "\n",
    "### $$U=\\frac{256}{x}+\\frac{x^2}{y}+\\frac{y^2}{z}+z^2$$"
   ]
  },
  {
   "cell_type": "markdown",
   "metadata": {},
   "source": [
    "$$U'_x= - \\frac{256}{x^2}+\\frac{2x}{y}$$\n",
    "\n",
    "$$U'_y =  -\\frac{x^2}{y^2}+\\frac{2y}{z}$$\n",
    "\n",
    "$$U'_z =  -\\frac{y^2}{z^2}+2z$$"
   ]
  },
  {
   "cell_type": "markdown",
   "metadata": {},
   "source": [
    "$$U''_{xx} = \\frac{512}{x^3}+\\frac{2}{y}$$\n",
    "\n",
    "$$U''_{xy} = - \\frac{2x}{y^2}$$\n",
    "\n",
    "$$U''_{xz}= 0 $$\n",
    "\n",
    "$$U''_{yx} =  -\\frac{2x}{y^2}$$\n",
    "\n",
    "$$U''_{yy} =  \\frac{2x^2}{y^3}+\\frac{2}{z}$$\n",
    "\n",
    "$$U''_{yz} =  - \\frac{2y}{z^2}$$\n",
    "\n",
    "$$U''_{zx} = 0 $$\n",
    "\n",
    "$$U''_{zy} = -\\frac{2y}{z^2} $$\n",
    "\n",
    "$$U''_{zz}= \\frac{2y^2}{z^3}+2$$"
   ]
  },
  {
   "cell_type": "markdown",
   "metadata": {},
   "source": [
    "__3.__ Найти производную функции $U=x^2+y^2+z^2$ по направлению вектора $\\overrightarrow{c}(-9,8,-12)$ в точке $M(8,-12,9)$"
   ]
  },
  {
   "cell_type": "markdown",
   "metadata": {},
   "source": [
    "$$\\overrightarrow{c}_{0} = \\left(\\frac{-9}{17},\\frac{8}{17},\\frac{-12}{17}\\right)$$\n",
    "\n",
    "$$ \\mbox{grad}U =   \\left(2x,2y,2z   \\right)$$\n",
    "\n",
    "$$ \\mbox{grad}U_M =  (16,-24, 18)$$\n",
    "\n",
    "$$U'_{\\overrightarrow{c}}=(\\overrightarrow{c}_{0}\\cdot \\mbox{grad}U) = $$\n",
    "\n",
    "$$ = \\left(\\frac{16\\cdot(-9)}{17},\\frac{-24\\cdot8}{17},\\frac{18\\cdot(-12)}{17}\\right) = $$\n",
    "\n",
    "$$ = \\left(\\frac{-144}{17},\\frac{-192}{17},\\frac{-216}{17}\\right)$$"
   ]
  },
  {
   "cell_type": "markdown",
   "metadata": {},
   "source": [
    "__4.__ Найти производную функции $U=e^{x^2+y^2+z^2}$ по направлению вектора $\\overrightarrow{c}(4,-13,-16)$ в точке $L(-16,4,-13)$"
   ]
  },
  {
   "cell_type": "markdown",
   "metadata": {},
   "source": [
    "$$\\overrightarrow{c}_{0} = \\left(\\frac{4}{21},\\frac{-13}{21},\\frac{-16}{21}\\right)$$\n",
    "\n",
    "$$ \\mbox{grad}U =   \\left(2 x e^{x^2 + y^2 + z^2},2 y e^{x^2 + y^2 + z^2},2z e^{x^2 + y^2 + z^2}   \\right) = e^{x^2 + y^2 + z^2}\\cdot(2x,2y,2z )$$\n",
    "\n",
    "$$ \\mbox{grad}U_L =  e^{441}\\cdot(-32,8,-26 )$$\n",
    "\n",
    "$$U'_{\\overrightarrow{c}}=(\\overrightarrow{c}_{0}\\cdot \\mbox{grad}U) = $$\n",
    "\n",
    "$$ = e^{441}\\cdot\\left(\\frac{-128}{21},\\frac{-104}{21},\\frac{416}{21}\\right)$$\n"
   ]
  },
  {
   "cell_type": "markdown",
   "metadata": {},
   "source": [
    "__5*.__ Найти производную функции $U=\\log_{21}(x^2+y^2+z^2)$ в точке $F(-19,8,-4)$ по самому быстрому направлению."
   ]
  },
  {
   "cell_type": "markdown",
   "metadata": {},
   "source": [
    "\n",
    "\n",
    "$$U=\\log_{21}(x^2+y^2+z^2) = \\frac{\\ln(x^2+y^2+z^2)}{\\ln{21}}$$\n",
    "\n",
    "$$ \\mbox{grad}U = \\frac{1}{\\ln(21)(x^2+y^2+z^2)}\\cdot(2x,2y,2z ) $$\n",
    "\n",
    "$$ \\mbox{grad}U_F = \\frac{2}{\\ln(21)\\cdot441}\\cdot(-19,8,-4 )$$\n",
    "\n",
    "$$ \\mbox{grad}U_{F_0} = \\frac{\\ln(21)\\cdot441}{2\\cdot 21} \\cdot(-19,8,-4 ) = \\frac{\\ln(21)\\cdot21}{2} \\cdot(-19,8,-4 )$$\n",
    "\n",
    "$$U'_{\\mbox{grad}U}=(\\mbox{grad}U_{0}\\cdot \\mbox{grad}U) =  \\frac{2}{\\ln(21)\\cdot441}\\cdot(-19,8,-4 ) * \\frac{\\ln(21)\\cdot21}{2} \\cdot(-19,8,-4 ) = $$\n",
    "\n",
    "$$ =  \\frac{1}{21} \\cdot ((-19)^2 + 8^2 + (-4)^2) = 21 $$"
   ]
  },
  {
   "cell_type": "markdown",
   "metadata": {},
   "source": [
    "__6.__ Исследовать на экстремум функцию:\n",
    "\n",
    "### $$U=x^2y+\\frac{1}{3}y^3+2x^2+3y^2-1$$"
   ]
  },
  {
   "cell_type": "markdown",
   "metadata": {},
   "source": [
    " $$U'_x = 2xy+ 4x = 0  \\to x = 0 | y = -2$$\n",
    " \n",
    " $$U'_y = x^2+ y^2 + 6y = 0  $$\n",
    " \n",
    " Для $ x = 0 $ получаем $y^2 + 6 y = 0 \\to y_1 = 0, y_2 = -6$\n",
    " \n",
    " Для $ y = -2 $ получаем $x^2 + 4 - 12 = 0 \\to x_1 = 2\\sqrt{2}, x_2 = -2\\sqrt{2}$\n",
    " \n",
    " Имеем четыре точки экстремума:\n",
    " \n",
    " $ P_1 = (0,0)$\n",
    " \n",
    " $P_2 = (0,-6)$\n",
    " \n",
    " $P_3 = (2\\sqrt{2},-2)$\n",
    " \n",
    " $P_4 = (-2\\sqrt{2},-2)$"
   ]
  },
  {
   "cell_type": "markdown",
   "metadata": {},
   "source": [
    "$$U''_{xx} = 2y + 4$$\n",
    "\n",
    "$$U''_{xy} = 2x $$\n",
    "\n",
    "$$U''_{yy} =  2y +6$$\n",
    "\n",
    "$$U''_{yx} =  2x $$\n",
    "\n"
   ]
  },
  {
   "cell_type": "markdown",
   "metadata": {},
   "source": [
    "Матрица Гессе:\n",
    "\n",
    "\n",
    " $$\\begin{pmatrix}\n",
    "{ 2y + 4} & 2x\\\\ \n",
    "2x & {2y+6}\\\\\n",
    "\\end{pmatrix}$$"
   ]
  },
  {
   "cell_type": "code",
   "execution_count": 2,
   "metadata": {},
   "outputs": [
    {
     "name": "stdout",
     "output_type": "stream",
     "text": [
      "[[4 0]\n",
      " [0 6]]\n",
      "[[-8  0]\n",
      " [ 0 -6]]\n",
      "[[0.         5.65685425]\n",
      " [5.65685425 2.        ]]\n",
      "[[ 0.         -5.65685425]\n",
      " [-5.65685425  2.        ]]\n"
     ]
    }
   ],
   "source": [
    "import numpy as np\n",
    "from math import sqrt\n",
    "G = []\n",
    "points = [(0,0),(0,-6),(sqrt(8),-2),(-sqrt(8),-2)]\n",
    "for x,y in points:\n",
    "    print (np.array([[2*y+4, 2*x],[2*x, 2*y+6]]))\n",
    "    G.append(np.array([[2*y+4, 2*x],[2*x, 2*y+6]]))"
   ]
  },
  {
   "cell_type": "code",
   "execution_count": 3,
   "metadata": {},
   "outputs": [
    {
     "name": "stdout",
     "output_type": "stream",
     "text": [
      "Для точки экстремума (0, 0)  - собственные значения = [4. 6.] - точка min\n",
      "Для точки экстремума (0, -6)  - собственные значения = [-8. -6.] - точка max\n",
      "Для точки экстремума (2.8284271247461903, -2)  - собственные значения = [-4.74456265  6.74456265] - седловая точка\n",
      "Для точки экстремума (-2.8284271247461903, -2)  - собственные значения = [-4.74456265  6.74456265] - седловая точка\n"
     ]
    }
   ],
   "source": [
    "sv = []\n",
    "for matr in G:\n",
    "    w, v = np.linalg.eig(matr)\n",
    "    sv.append(w)\n",
    "for i in range(4):\n",
    "    if all(sv[i] > 0):\n",
    "        p = 'точка min'\n",
    "    elif all(sv[i] < 0):\n",
    "        p = 'точка max'\n",
    "    else:\n",
    "        p = 'седловая точка'\n",
    "    print(f'Для точки экстремума {tuple(points[i])}  - собственные значения = {sv[i]} - {p}')\n",
    "    \n",
    "    "
   ]
  },
  {
   "cell_type": "markdown",
   "metadata": {},
   "source": [
    "Следовательно:\n",
    "\n",
    "$ P_1 = (0,0)$ - является точкой минимума\n",
    " \n",
    " $P_2 = (0,-6)$  - является точкой Максимума\n",
    " \n",
    " $P_3 = (2\\sqrt{2},-2)$ и $P_4 = (-2\\sqrt{2},-2)$ - являются седловыми точками"
   ]
  },
  {
   "cell_type": "markdown",
   "metadata": {},
   "source": [
    "---"
   ]
  },
  {
   "cell_type": "markdown",
   "metadata": {},
   "source": [
    "__7*.__ Исследовать на экстремум функцию:\n",
    "\n",
    "### $$U=e^{-\\frac{x}{2}}\\cdot(x^2+y^2)$$\n"
   ]
  },
  {
   "cell_type": "markdown",
   "metadata": {},
   "source": [
    " $$U'_x = -\\frac{1}{2} e^{-x/2}(x^2+y^2) + e^{-x/2}\\cdot 2x = -\\frac{1}{2} e^{-x/2}(x^2+y^2 - 4x) = 0 $$\n",
    " \n",
    " $$U'_y = e^{-x/2}2y = 0  $$\n",
    " \n",
    " $e^{-x/2} > 0, \\forall x \\in R  $, следовательно решаем систему уравнений:\n",
    " \n",
    " $$(x^2+y^2 - 4x) = 0$$\n",
    " \n",
    " $$ y = 0 $$\n",
    " \n",
    " тогда \n",
    " $ (x^2 - 4x) = 0 \\to x(x-4) = 0 \\to x_1 = 0, x_2 = 4$\n",
    " \n",
    "  Имеем 2 точки экстремума:\n",
    " \n",
    " $P_1 = (0,0)$\n",
    " \n",
    " $P_2 = (4,0)$"
   ]
  },
  {
   "cell_type": "markdown",
   "metadata": {},
   "source": [
    "$$U''_{xx} = \\frac{1}{4} e^{-x/2}(x^2+y^2 - 4x) - \\frac{1}{2} e^{-x/2}(2x- 4) = \\frac{1}{4} e^{-x/2}(x^2+y^2 - 8x+8)$$\n",
    "\n",
    "$$U''_{xy} = -\\frac{1}{2} e^{-x/2}2y  = - e^{-x/2}y$$\n",
    "\n",
    "$$U''_{yy} =  2e^{-x/2}$$\n",
    "\n",
    "$$U''_{yx} =  - e^{-x/2}y $$"
   ]
  },
  {
   "cell_type": "markdown",
   "metadata": {},
   "source": [
    "Так как   $e^{-x/2} > 0, \\forall x \\in R  $, то матрицу Гессе для исследования можно представить в виде:\n",
    "\n",
    "\n",
    " $$\\begin{pmatrix}\n",
    "{ \\frac{1}{4} (x^2+y^2 - 8x+8)} & -y\\\\ \n",
    "-y & 2\\\\\n",
    "\\end{pmatrix}$$"
   ]
  },
  {
   "cell_type": "code",
   "execution_count": 14,
   "metadata": {},
   "outputs": [
    {
     "name": "stdout",
     "output_type": "stream",
     "text": [
      "[[2. 0.]\n",
      " [0. 2.]]\n",
      "[[-2.  0.]\n",
      " [ 0.  2.]]\n"
     ]
    }
   ],
   "source": [
    "G2 = []\n",
    "points = [(0,0),(4,0)]\n",
    "for x,y in points:\n",
    "    print (np.array([[(x**2+y**2-8*x+8)/4, -y],[-y, 2]]))\n",
    "    G2.append(np.array([[(x**2+y**2-8*x+8)/4, -y],[-y, 2]]))"
   ]
  },
  {
   "cell_type": "code",
   "execution_count": 16,
   "metadata": {},
   "outputs": [
    {
     "name": "stdout",
     "output_type": "stream",
     "text": [
      "Для точки экстремума (0, 0)  - собственные значения = [2. 2.] - точка min\n",
      "Для точки экстремума (4, 0)  - собственные значения = [-2.  2.] - седловая точка\n"
     ]
    }
   ],
   "source": [
    "sv2 = []\n",
    "for matr in G2:\n",
    "    w, v = np.linalg.eig(matr)\n",
    "    sv2.append(w)\n",
    "for i in range(len(points)):\n",
    "    if all(sv2[i] > 0):\n",
    "        p = 'точка min'\n",
    "    elif all(sv2[i] < 0):\n",
    "        p = 'точка max'\n",
    "    else:\n",
    "        p = 'седловая точка'\n",
    "    print(f'Для точки экстремума {tuple(points[i])}  - собственные значения = {sv2[i]} - {p}')\n",
    "    "
   ]
  },
  {
   "cell_type": "markdown",
   "metadata": {},
   "source": [
    "Следовательно:\n",
    "\n",
    "$ P_1 = (0,0)$ - является точкой минимума\n",
    " \n",
    " $P_2 = (4,0)$  - является седловой точкой"
   ]
  },
  {
   "cell_type": "markdown",
   "metadata": {},
   "source": [
    "-----"
   ]
  },
  {
   "cell_type": "markdown",
   "metadata": {},
   "source": [
    "__8**.__ С помощью метода наименьших квадратов (МНК) подобрать значения параметров $a$ и $b$ для сигмоидальной функции $$y=\\frac{1}{1+e^{-(ax+b)}}$$ \n",
    "\n",
    "по заданному распределению. Построить график."
   ]
  },
  {
   "cell_type": "code",
   "execution_count": 95,
   "metadata": {},
   "outputs": [
    {
     "data": {
      "image/png": "[encoded data removed]",
      "text/plain": [
       "<Figure size 432x288 with 1 Axes>"
      ]
     },
     "metadata": {
      "needs_background": "light"
     },
     "output_type": "display_data"
    }
   ],
   "source": [
    "import numpy as np\n",
    "import matplotlib.pyplot as plt\n",
    "\n",
    "# Задаем рандомное распределение точек\n",
    "xi = np.random.uniform(-8, 8, 200)\n",
    "yi = 1/(1+np.exp(-np.random.uniform(0.5, 1.5, 200)*xi-np.random.uniform(-1, 1, 200)))\n",
    "plt.plot(xi,yi, marker=\"o\", ls=\"\")\n",
    "\n",
    "plt.show()"
   ]
  },
  {
   "cell_type": "markdown",
   "metadata": {},
   "source": [
    "Функция ошибок будет зависеть от $a$ и $b$:\n",
    "$$U(k,b)= \\sum\\limits_{i=1}^n\\left(y_i-\\frac{1}{1+e^{-(ax_i+b)}}\\right) $$\n",
    "\n",
    "Тогда:\n",
    "\n",
    "$$ U'_a=-\\frac{2xe^{ax+b}((y-1)e^{ax+b}+y)}{(e^{ax+b}+1)^3}$$\n",
    "\n",
    "$$ U'_a=-\\frac{2e^{ax+b}((y-1)e^{ax+b}+y)}{(e^{ax+b}+1)^3}$$\n",
    "\n",
    "так как $e^{ax+b} > 0$, нам достаточно решить систему уравнений:\n",
    "\n",
    "$$\\begin{cases}\n",
    "   U'_{a}=\\sum\\limits_{i=1}^n(x_i\\cdot((y_i-1)e^{ax_i+b}+y_i))=0, \\\\\n",
    "   U'_{b}=\\sum\\limits_{i=1}^n((y_i-1)e^{ax_i+b}+y_i)=0 \n",
    " \\end{cases}$$\n"
   ]
  },
  {
   "cell_type": "code",
   "execution_count": 96,
   "metadata": {},
   "outputs": [
    {
     "name": "stdout",
     "output_type": "stream",
     "text": [
      "Значения параметров:\n",
      "a = 0.8185559004736962\n",
      "b = 0.0145910386729829\n"
     ]
    }
   ],
   "source": [
    "from scipy.optimize import fsolve\n",
    "import math\n",
    "\n",
    "def equations(p):\n",
    "    a, b = p\n",
    "    u1 = (xi*((yi-1)*np.exp(a*xi+b)+yi)).sum()\n",
    "    u2 = ((yi-1)*np.exp(a*xi+b)+yi).sum()\n",
    "\n",
    "    return (u1, u2)\n",
    "\n",
    "a, b =  fsolve(equations, (1,1))\n",
    "print (f'Значения параметров:\\na = {a}\\nb = {b}')"
   ]
  },
  {
   "cell_type": "code",
   "execution_count": 98,
   "metadata": {},
   "outputs": [
    {
     "data": {
      "image/png": "[encoded data removed]",
      "text/plain": [
       "<Figure size 432x288 with 1 Axes>"
      ]
     },
     "metadata": {
      "needs_background": "light"
     },
     "output_type": "display_data"
    }
   ],
   "source": [
    "plt.plot(xi,yi, marker=\"o\", ls=\"\")\n",
    "\n",
    "x = x = np.linspace(-8, 8, 100)\n",
    "y = 1/(1+np.exp(-a*x-b))\n",
    "plt.plot(x,y, c='r')\n",
    "#print(a,b)\n",
    "plt.show()"
   ]
  }
 ],
 "metadata": {
  "kernelspec": {
   "display_name": "Python 3",
   "language": "python",
   "name": "python3"
  },
  "language_info": {
   "codemirror_mode": {
    "name": "ipython",
    "version": 3
   },
   "file_extension": ".py",
   "mimetype": "text/x-python",
   "name": "python",
   "nbconvert_exporter": "python",
   "pygments_lexer": "ipython3",
   "version": "3.7.4"
  }
 },
 "nbformat": 4,
 "nbformat_minor": 2
}
